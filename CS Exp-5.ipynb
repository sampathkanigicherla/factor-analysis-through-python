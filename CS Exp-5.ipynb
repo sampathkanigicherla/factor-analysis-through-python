{
 "cells": [
  {
   "cell_type": "code",
   "execution_count": 24,
   "id": "83dea9fc-7735-41f8-8cbe-4ea4ef2c4be3",
   "metadata": {},
   "outputs": [],
   "source": [
    "#import the required modules\n",
    "import pandas as pd\n",
    "import sklearn.datasets\n",
    "from factor_analyzer import FactorAnalyzer\n",
    "import matplotlib.pyplot as plt"
   ]
  },
  {
   "cell_type": "code",
   "execution_count": 5,
   "id": "57a6fdff-1990-42a6-997d-0159a8a89301",
   "metadata": {},
   "outputs": [
    {
     "name": "stdout",
     "output_type": "stream",
     "text": [
      "Requirement already satisfied: factor_analyzer in c:\\users\\udayp\\anaconda3\\lib\\site-packages (0.3.2)\n",
      "Requirement already satisfied: scikit-learn in c:\\users\\udayp\\anaconda3\\lib\\site-packages (from factor_analyzer) (0.24.1)\n",
      "Requirement already satisfied: numpy in c:\\users\\udayp\\anaconda3\\lib\\site-packages (from factor_analyzer) (1.20.1)\n",
      "Requirement already satisfied: scipy in c:\\users\\udayp\\anaconda3\\lib\\site-packages (from factor_analyzer) (1.6.2)\n",
      "Requirement already satisfied: pandas in c:\\users\\udayp\\anaconda3\\lib\\site-packages (from factor_analyzer) (1.2.4)\n",
      "Requirement already satisfied: pytz>=2017.3 in c:\\users\\udayp\\anaconda3\\lib\\site-packages (from pandas->factor_analyzer) (2021.1)\n",
      "Requirement already satisfied: python-dateutil>=2.7.3 in c:\\users\\udayp\\anaconda3\\lib\\site-packages (from pandas->factor_analyzer) (2.8.1)\n",
      "Requirement already satisfied: six>=1.5 in c:\\users\\udayp\\anaconda3\\lib\\site-packages (from python-dateutil>=2.7.3->pandas->factor_analyzer) (1.15.0)\n",
      "Requirement already satisfied: threadpoolctl>=2.0.0 in c:\\users\\udayp\\anaconda3\\lib\\site-packages (from scikit-learn->factor_analyzer) (2.1.0)\n",
      "Requirement already satisfied: joblib>=0.11 in c:\\users\\udayp\\anaconda3\\lib\\site-packages (from scikit-learn->factor_analyzer) (1.0.1)\n"
     ]
    }
   ],
   "source": [
    "!pip install factor_analyzer"
   ]
  },
  {
   "cell_type": "code",
   "execution_count": 25,
   "id": "61944cf8-5a61-47c1-8bba-2d2409181dee",
   "metadata": {},
   "outputs": [
    {
     "data": {
      "text/plain": [
       "Index(['Unnamed: 0', 'A1', 'A2', 'A3', 'A4', 'A5', 'C1', 'C2', 'C3', 'C4',\n",
       "       'C5', 'E1', 'E2', 'E3', 'E4', 'E5', 'N1', 'N2', 'N3', 'N4', 'N5', 'O1',\n",
       "       'O2', 'O3', 'O4', 'O5', 'gender', 'education', 'age'],\n",
       "      dtype='object')"
      ]
     },
     "execution_count": 25,
     "metadata": {},
     "output_type": "execute_result"
    }
   ],
   "source": [
    "df=pd.read_csv('bfi.csv')\n",
    "df.head()\n",
    "df.columns"
   ]
  },
  {
   "cell_type": "code",
   "execution_count": 26,
   "id": "632b5869-25a8-4374-bb2d-dd225e3d486a",
   "metadata": {},
   "outputs": [
    {
     "name": "stdout",
     "output_type": "stream",
     "text": [
      "<class 'pandas.core.frame.DataFrame'>\n",
      "RangeIndex: 2800 entries, 0 to 2799\n",
      "Data columns (total 26 columns):\n",
      " #   Column      Non-Null Count  Dtype  \n",
      "---  ------      --------------  -----  \n",
      " 0   Unnamed: 0  2800 non-null   int64  \n",
      " 1   A1          2784 non-null   float64\n",
      " 2   A2          2773 non-null   float64\n",
      " 3   A3          2774 non-null   float64\n",
      " 4   A4          2781 non-null   float64\n",
      " 5   A5          2784 non-null   float64\n",
      " 6   C1          2779 non-null   float64\n",
      " 7   C2          2776 non-null   float64\n",
      " 8   C3          2780 non-null   float64\n",
      " 9   C4          2774 non-null   float64\n",
      " 10  C5          2784 non-null   float64\n",
      " 11  E1          2777 non-null   float64\n",
      " 12  E2          2784 non-null   float64\n",
      " 13  E3          2775 non-null   float64\n",
      " 14  E4          2791 non-null   float64\n",
      " 15  E5          2779 non-null   float64\n",
      " 16  N1          2778 non-null   float64\n",
      " 17  N2          2779 non-null   float64\n",
      " 18  N3          2789 non-null   float64\n",
      " 19  N4          2764 non-null   float64\n",
      " 20  N5          2771 non-null   float64\n",
      " 21  O1          2778 non-null   float64\n",
      " 22  O2          2800 non-null   int64  \n",
      " 23  O3          2772 non-null   float64\n",
      " 24  O4          2786 non-null   float64\n",
      " 25  O5          2780 non-null   float64\n",
      "dtypes: float64(24), int64(2)\n",
      "memory usage: 568.9 KB\n"
     ]
    },
    {
     "data": {
      "text/html": [
       "<div>\n",
       "<style scoped>\n",
       "    .dataframe tbody tr th:only-of-type {\n",
       "        vertical-align: middle;\n",
       "    }\n",
       "\n",
       "    .dataframe tbody tr th {\n",
       "        vertical-align: top;\n",
       "    }\n",
       "\n",
       "    .dataframe thead th {\n",
       "        text-align: right;\n",
       "    }\n",
       "</style>\n",
       "<table border=\"1\" class=\"dataframe\">\n",
       "  <thead>\n",
       "    <tr style=\"text-align: right;\">\n",
       "      <th></th>\n",
       "      <th>Unnamed: 0</th>\n",
       "      <th>A1</th>\n",
       "      <th>A2</th>\n",
       "      <th>A3</th>\n",
       "      <th>A4</th>\n",
       "      <th>A5</th>\n",
       "      <th>C1</th>\n",
       "      <th>C2</th>\n",
       "      <th>C3</th>\n",
       "      <th>C4</th>\n",
       "      <th>...</th>\n",
       "      <th>N1</th>\n",
       "      <th>N2</th>\n",
       "      <th>N3</th>\n",
       "      <th>N4</th>\n",
       "      <th>N5</th>\n",
       "      <th>O1</th>\n",
       "      <th>O2</th>\n",
       "      <th>O3</th>\n",
       "      <th>O4</th>\n",
       "      <th>O5</th>\n",
       "    </tr>\n",
       "  </thead>\n",
       "  <tbody>\n",
       "    <tr>\n",
       "      <th>0</th>\n",
       "      <td>61617</td>\n",
       "      <td>2.0</td>\n",
       "      <td>4.0</td>\n",
       "      <td>3.0</td>\n",
       "      <td>4.0</td>\n",
       "      <td>4.0</td>\n",
       "      <td>2.0</td>\n",
       "      <td>3.0</td>\n",
       "      <td>3.0</td>\n",
       "      <td>4.0</td>\n",
       "      <td>...</td>\n",
       "      <td>3.0</td>\n",
       "      <td>4.0</td>\n",
       "      <td>2.0</td>\n",
       "      <td>2.0</td>\n",
       "      <td>3.0</td>\n",
       "      <td>3.0</td>\n",
       "      <td>6</td>\n",
       "      <td>3.0</td>\n",
       "      <td>4.0</td>\n",
       "      <td>3.0</td>\n",
       "    </tr>\n",
       "    <tr>\n",
       "      <th>1</th>\n",
       "      <td>61618</td>\n",
       "      <td>2.0</td>\n",
       "      <td>4.0</td>\n",
       "      <td>5.0</td>\n",
       "      <td>2.0</td>\n",
       "      <td>5.0</td>\n",
       "      <td>5.0</td>\n",
       "      <td>4.0</td>\n",
       "      <td>4.0</td>\n",
       "      <td>3.0</td>\n",
       "      <td>...</td>\n",
       "      <td>3.0</td>\n",
       "      <td>3.0</td>\n",
       "      <td>3.0</td>\n",
       "      <td>5.0</td>\n",
       "      <td>5.0</td>\n",
       "      <td>4.0</td>\n",
       "      <td>2</td>\n",
       "      <td>4.0</td>\n",
       "      <td>3.0</td>\n",
       "      <td>3.0</td>\n",
       "    </tr>\n",
       "    <tr>\n",
       "      <th>2</th>\n",
       "      <td>61620</td>\n",
       "      <td>5.0</td>\n",
       "      <td>4.0</td>\n",
       "      <td>5.0</td>\n",
       "      <td>4.0</td>\n",
       "      <td>4.0</td>\n",
       "      <td>4.0</td>\n",
       "      <td>5.0</td>\n",
       "      <td>4.0</td>\n",
       "      <td>2.0</td>\n",
       "      <td>...</td>\n",
       "      <td>4.0</td>\n",
       "      <td>5.0</td>\n",
       "      <td>4.0</td>\n",
       "      <td>2.0</td>\n",
       "      <td>3.0</td>\n",
       "      <td>4.0</td>\n",
       "      <td>2</td>\n",
       "      <td>5.0</td>\n",
       "      <td>5.0</td>\n",
       "      <td>2.0</td>\n",
       "    </tr>\n",
       "    <tr>\n",
       "      <th>3</th>\n",
       "      <td>61621</td>\n",
       "      <td>4.0</td>\n",
       "      <td>4.0</td>\n",
       "      <td>6.0</td>\n",
       "      <td>5.0</td>\n",
       "      <td>5.0</td>\n",
       "      <td>4.0</td>\n",
       "      <td>4.0</td>\n",
       "      <td>3.0</td>\n",
       "      <td>5.0</td>\n",
       "      <td>...</td>\n",
       "      <td>2.0</td>\n",
       "      <td>5.0</td>\n",
       "      <td>2.0</td>\n",
       "      <td>4.0</td>\n",
       "      <td>1.0</td>\n",
       "      <td>3.0</td>\n",
       "      <td>3</td>\n",
       "      <td>4.0</td>\n",
       "      <td>3.0</td>\n",
       "      <td>5.0</td>\n",
       "    </tr>\n",
       "    <tr>\n",
       "      <th>4</th>\n",
       "      <td>61622</td>\n",
       "      <td>2.0</td>\n",
       "      <td>3.0</td>\n",
       "      <td>3.0</td>\n",
       "      <td>4.0</td>\n",
       "      <td>5.0</td>\n",
       "      <td>4.0</td>\n",
       "      <td>4.0</td>\n",
       "      <td>5.0</td>\n",
       "      <td>3.0</td>\n",
       "      <td>...</td>\n",
       "      <td>2.0</td>\n",
       "      <td>3.0</td>\n",
       "      <td>4.0</td>\n",
       "      <td>4.0</td>\n",
       "      <td>3.0</td>\n",
       "      <td>3.0</td>\n",
       "      <td>3</td>\n",
       "      <td>4.0</td>\n",
       "      <td>3.0</td>\n",
       "      <td>3.0</td>\n",
       "    </tr>\n",
       "  </tbody>\n",
       "</table>\n",
       "<p>5 rows × 26 columns</p>\n",
       "</div>"
      ],
      "text/plain": [
       "   Unnamed: 0   A1   A2   A3   A4   A5   C1   C2   C3   C4  ...   N1   N2  \\\n",
       "0       61617  2.0  4.0  3.0  4.0  4.0  2.0  3.0  3.0  4.0  ...  3.0  4.0   \n",
       "1       61618  2.0  4.0  5.0  2.0  5.0  5.0  4.0  4.0  3.0  ...  3.0  3.0   \n",
       "2       61620  5.0  4.0  5.0  4.0  4.0  4.0  5.0  4.0  2.0  ...  4.0  5.0   \n",
       "3       61621  4.0  4.0  6.0  5.0  5.0  4.0  4.0  3.0  5.0  ...  2.0  5.0   \n",
       "4       61622  2.0  3.0  3.0  4.0  5.0  4.0  4.0  5.0  3.0  ...  2.0  3.0   \n",
       "\n",
       "    N3   N4   N5   O1  O2   O3   O4   O5  \n",
       "0  2.0  2.0  3.0  3.0   6  3.0  4.0  3.0  \n",
       "1  3.0  5.0  5.0  4.0   2  4.0  3.0  3.0  \n",
       "2  4.0  2.0  3.0  4.0   2  5.0  5.0  2.0  \n",
       "3  2.0  4.0  1.0  3.0   3  4.0  3.0  5.0  \n",
       "4  4.0  4.0  3.0  3.0   3  4.0  3.0  3.0  \n",
       "\n",
       "[5 rows x 26 columns]"
      ]
     },
     "execution_count": 26,
     "metadata": {},
     "output_type": "execute_result"
    }
   ],
   "source": [
    "df.drop(['gender','education','age'],axis=1,inplace=True)\n",
    "df.columns\n",
    "df.info()\n",
    "df.head()"
   ]
  },
  {
   "cell_type": "code",
   "execution_count": 27,
   "id": "e70cbf17-f654-4fdc-ac92-896d37f2cb85",
   "metadata": {},
   "outputs": [],
   "source": [
    "df=df.iloc[0:,1:26]"
   ]
  },
  {
   "cell_type": "code",
   "execution_count": 28,
   "id": "acb56e06-4ba9-4bc2-8b23-90c917b13093",
   "metadata": {},
   "outputs": [
    {
     "data": {
      "text/html": [
       "<div>\n",
       "<style scoped>\n",
       "    .dataframe tbody tr th:only-of-type {\n",
       "        vertical-align: middle;\n",
       "    }\n",
       "\n",
       "    .dataframe tbody tr th {\n",
       "        vertical-align: top;\n",
       "    }\n",
       "\n",
       "    .dataframe thead th {\n",
       "        text-align: right;\n",
       "    }\n",
       "</style>\n",
       "<table border=\"1\" class=\"dataframe\">\n",
       "  <thead>\n",
       "    <tr style=\"text-align: right;\">\n",
       "      <th></th>\n",
       "      <th>A1</th>\n",
       "      <th>A2</th>\n",
       "      <th>A3</th>\n",
       "      <th>A4</th>\n",
       "      <th>A5</th>\n",
       "      <th>C1</th>\n",
       "      <th>C2</th>\n",
       "      <th>C3</th>\n",
       "      <th>C4</th>\n",
       "      <th>C5</th>\n",
       "      <th>...</th>\n",
       "      <th>N1</th>\n",
       "      <th>N2</th>\n",
       "      <th>N3</th>\n",
       "      <th>N4</th>\n",
       "      <th>N5</th>\n",
       "      <th>O1</th>\n",
       "      <th>O2</th>\n",
       "      <th>O3</th>\n",
       "      <th>O4</th>\n",
       "      <th>O5</th>\n",
       "    </tr>\n",
       "  </thead>\n",
       "  <tbody>\n",
       "    <tr>\n",
       "      <th>0</th>\n",
       "      <td>2.0</td>\n",
       "      <td>4.0</td>\n",
       "      <td>3.0</td>\n",
       "      <td>4.0</td>\n",
       "      <td>4.0</td>\n",
       "      <td>2.0</td>\n",
       "      <td>3.0</td>\n",
       "      <td>3.0</td>\n",
       "      <td>4.0</td>\n",
       "      <td>4.0</td>\n",
       "      <td>...</td>\n",
       "      <td>3.0</td>\n",
       "      <td>4.0</td>\n",
       "      <td>2.0</td>\n",
       "      <td>2.0</td>\n",
       "      <td>3.0</td>\n",
       "      <td>3.0</td>\n",
       "      <td>6</td>\n",
       "      <td>3.0</td>\n",
       "      <td>4.0</td>\n",
       "      <td>3.0</td>\n",
       "    </tr>\n",
       "    <tr>\n",
       "      <th>1</th>\n",
       "      <td>2.0</td>\n",
       "      <td>4.0</td>\n",
       "      <td>5.0</td>\n",
       "      <td>2.0</td>\n",
       "      <td>5.0</td>\n",
       "      <td>5.0</td>\n",
       "      <td>4.0</td>\n",
       "      <td>4.0</td>\n",
       "      <td>3.0</td>\n",
       "      <td>4.0</td>\n",
       "      <td>...</td>\n",
       "      <td>3.0</td>\n",
       "      <td>3.0</td>\n",
       "      <td>3.0</td>\n",
       "      <td>5.0</td>\n",
       "      <td>5.0</td>\n",
       "      <td>4.0</td>\n",
       "      <td>2</td>\n",
       "      <td>4.0</td>\n",
       "      <td>3.0</td>\n",
       "      <td>3.0</td>\n",
       "    </tr>\n",
       "    <tr>\n",
       "      <th>2</th>\n",
       "      <td>5.0</td>\n",
       "      <td>4.0</td>\n",
       "      <td>5.0</td>\n",
       "      <td>4.0</td>\n",
       "      <td>4.0</td>\n",
       "      <td>4.0</td>\n",
       "      <td>5.0</td>\n",
       "      <td>4.0</td>\n",
       "      <td>2.0</td>\n",
       "      <td>5.0</td>\n",
       "      <td>...</td>\n",
       "      <td>4.0</td>\n",
       "      <td>5.0</td>\n",
       "      <td>4.0</td>\n",
       "      <td>2.0</td>\n",
       "      <td>3.0</td>\n",
       "      <td>4.0</td>\n",
       "      <td>2</td>\n",
       "      <td>5.0</td>\n",
       "      <td>5.0</td>\n",
       "      <td>2.0</td>\n",
       "    </tr>\n",
       "    <tr>\n",
       "      <th>3</th>\n",
       "      <td>4.0</td>\n",
       "      <td>4.0</td>\n",
       "      <td>6.0</td>\n",
       "      <td>5.0</td>\n",
       "      <td>5.0</td>\n",
       "      <td>4.0</td>\n",
       "      <td>4.0</td>\n",
       "      <td>3.0</td>\n",
       "      <td>5.0</td>\n",
       "      <td>5.0</td>\n",
       "      <td>...</td>\n",
       "      <td>2.0</td>\n",
       "      <td>5.0</td>\n",
       "      <td>2.0</td>\n",
       "      <td>4.0</td>\n",
       "      <td>1.0</td>\n",
       "      <td>3.0</td>\n",
       "      <td>3</td>\n",
       "      <td>4.0</td>\n",
       "      <td>3.0</td>\n",
       "      <td>5.0</td>\n",
       "    </tr>\n",
       "    <tr>\n",
       "      <th>4</th>\n",
       "      <td>2.0</td>\n",
       "      <td>3.0</td>\n",
       "      <td>3.0</td>\n",
       "      <td>4.0</td>\n",
       "      <td>5.0</td>\n",
       "      <td>4.0</td>\n",
       "      <td>4.0</td>\n",
       "      <td>5.0</td>\n",
       "      <td>3.0</td>\n",
       "      <td>2.0</td>\n",
       "      <td>...</td>\n",
       "      <td>2.0</td>\n",
       "      <td>3.0</td>\n",
       "      <td>4.0</td>\n",
       "      <td>4.0</td>\n",
       "      <td>3.0</td>\n",
       "      <td>3.0</td>\n",
       "      <td>3</td>\n",
       "      <td>4.0</td>\n",
       "      <td>3.0</td>\n",
       "      <td>3.0</td>\n",
       "    </tr>\n",
       "  </tbody>\n",
       "</table>\n",
       "<p>5 rows × 25 columns</p>\n",
       "</div>"
      ],
      "text/plain": [
       "    A1   A2   A3   A4   A5   C1   C2   C3   C4   C5  ...   N1   N2   N3   N4  \\\n",
       "0  2.0  4.0  3.0  4.0  4.0  2.0  3.0  3.0  4.0  4.0  ...  3.0  4.0  2.0  2.0   \n",
       "1  2.0  4.0  5.0  2.0  5.0  5.0  4.0  4.0  3.0  4.0  ...  3.0  3.0  3.0  5.0   \n",
       "2  5.0  4.0  5.0  4.0  4.0  4.0  5.0  4.0  2.0  5.0  ...  4.0  5.0  4.0  2.0   \n",
       "3  4.0  4.0  6.0  5.0  5.0  4.0  4.0  3.0  5.0  5.0  ...  2.0  5.0  2.0  4.0   \n",
       "4  2.0  3.0  3.0  4.0  5.0  4.0  4.0  5.0  3.0  2.0  ...  2.0  3.0  4.0  4.0   \n",
       "\n",
       "    N5   O1  O2   O3   O4   O5  \n",
       "0  3.0  3.0   6  3.0  4.0  3.0  \n",
       "1  5.0  4.0   2  4.0  3.0  3.0  \n",
       "2  3.0  4.0   2  5.0  5.0  2.0  \n",
       "3  1.0  3.0   3  4.0  3.0  5.0  \n",
       "4  3.0  3.0   3  4.0  3.0  3.0  \n",
       "\n",
       "[5 rows x 25 columns]"
      ]
     },
     "execution_count": 28,
     "metadata": {},
     "output_type": "execute_result"
    }
   ],
   "source": [
    "df.head()"
   ]
  },
  {
   "cell_type": "code",
   "execution_count": 29,
   "id": "165cd14d-1b90-4119-91ff-183280fc3d4a",
   "metadata": {},
   "outputs": [],
   "source": [
    "fa=FactorAnalyzer(n_factors=6,rotation=\"varimax\")"
   ]
  },
  {
   "cell_type": "code",
   "execution_count": 30,
   "id": "939de1a3-2bd3-4dc8-a454-92ee03c894b4",
   "metadata": {},
   "outputs": [],
   "source": [
    "df=df.dropna()"
   ]
  },
  {
   "cell_type": "code",
   "execution_count": 31,
   "id": "ce1ac35b-4d73-43dc-9de1-6581fa79fac6",
   "metadata": {},
   "outputs": [
    {
     "data": {
      "text/plain": [
       "FactorAnalyzer(n_factors=6, rotation='varimax', rotation_kwargs={})"
      ]
     },
     "execution_count": 31,
     "metadata": {},
     "output_type": "execute_result"
    }
   ],
   "source": [
    "fa.fit(df)"
   ]
  },
  {
   "cell_type": "code",
   "execution_count": 33,
   "id": "652fb586-5fb8-47df-a611-d73245d9a441",
   "metadata": {},
   "outputs": [],
   "source": [
    "loadings=fa.loadings_"
   ]
  },
  {
   "cell_type": "code",
   "execution_count": 34,
   "id": "3511c61e-e6b0-4b12-94da-e3ab0e6a1563",
   "metadata": {},
   "outputs": [],
   "source": [
    "ev,v=fa.get_eigenvalues()"
   ]
  },
  {
   "cell_type": "code",
   "execution_count": 35,
   "id": "0e192b89-97f3-464c-8c95-b182ee2c484a",
   "metadata": {},
   "outputs": [],
   "source": [
    "xvals=range(1,df.shape[1]+1)"
   ]
  },
  {
   "cell_type": "code",
   "execution_count": 36,
   "id": "7040cffc-3342-45a7-b84f-e137c7a65a4a",
   "metadata": {},
   "outputs": [
    {
     "data": {
      "text/plain": [
       "<matplotlib.collections.PathCollection at 0x22f1656b520>"
      ]
     },
     "execution_count": 36,
     "metadata": {},
     "output_type": "execute_result"
    },
    {
     "data": {
      "image/png": "[encoded data removed]",
      "text/plain": [
       "<Figure size 432x288 with 1 Axes>"
      ]
     },
     "metadata": {
      "needs_background": "light"
     },
     "output_type": "display_data"
    }
   ],
   "source": [
    "plt.scatter(xvals,ev)"
   ]
  },
  {
   "cell_type": "code",
   "execution_count": 38,
   "id": "0ba09480-7ac1-420f-be61-7b55d64be9a5",
   "metadata": {},
   "outputs": [
    {
     "data": {
      "text/plain": [
       "Text(0.5, 1.0, 'Scree plot')"
      ]
     },
     "execution_count": 38,
     "metadata": {},
     "output_type": "execute_result"
    },
    {
     "data": {
      "image/png": "[encoded data removed]",
      "text/plain": [
       "<Figure size 432x288 with 1 Axes>"
      ]
     },
     "metadata": {
      "needs_background": "light"
     },
     "output_type": "display_data"
    }
   ],
   "source": [
    "plt.title(\"Scree plot\")"
   ]
  },
  {
   "cell_type": "code",
   "execution_count": 39,
   "id": "4de3a74a-4fa4-41b9-aaed-8d4a3722878e",
   "metadata": {},
   "outputs": [
    {
     "data": {
      "text/plain": [
       "Text(0.5, 0, 'Factor')"
      ]
     },
     "execution_count": 39,
     "metadata": {},
     "output_type": "execute_result"
    },
    {
     "data": {
      "image/png": "[encoded data removed]",
      "text/plain": [
       "<Figure size 432x288 with 1 Axes>"
      ]
     },
     "metadata": {
      "needs_background": "light"
     },
     "output_type": "display_data"
    }
   ],
   "source": [
    "plt.xlabel(\"Factor\")"
   ]
  },
  {
   "cell_type": "code",
   "execution_count": 40,
   "id": "c7446aa1-9a1c-476d-a4ae-cf998e3142dd",
   "metadata": {},
   "outputs": [
    {
     "data": {
      "text/plain": [
       "Text(0, 0.5, 'Eigen values')"
      ]
     },
     "execution_count": 40,
     "metadata": {},
     "output_type": "execute_result"
    },
    {
     "data": {
      "image/png": "[encoded data removed]",
      "text/plain": [
       "<Figure size 432x288 with 1 Axes>"
      ]
     },
     "metadata": {
      "needs_background": "light"
     },
     "output_type": "display_data"
    }
   ],
   "source": [
    "plt.ylabel(\"Eigen values\")"
   ]
  },
  {
   "cell_type": "code",
   "execution_count": 41,
   "id": "99b75a5c-a8d3-49e8-a3c3-267f201afb9a",
   "metadata": {},
   "outputs": [
    {
     "data": {
      "image/png": "[encoded data removed]",
      "text/plain": [
       "<Figure size 432x288 with 1 Axes>"
      ]
     },
     "metadata": {
      "needs_background": "light"
     },
     "output_type": "display_data"
    }
   ],
   "source": [
    "plt.grid()"
   ]
  },
  {
   "cell_type": "code",
   "execution_count": 42,
   "id": "f0b76781-db57-4997-baed-283d4ce379c1",
   "metadata": {},
   "outputs": [],
   "source": [
    "plt.show()"
   ]
  },
  {
   "cell_type": "code",
   "execution_count": 43,
   "id": "c2432578-e9be-4a20-a9ea-86f82ce8fb94",
   "metadata": {},
   "outputs": [
    {
     "data": {
      "text/plain": [
       "array([[ 9.52197422e-02,  4.07831579e-02,  4.87338853e-02,\n",
       "        -5.30987348e-01, -1.13057329e-01,  1.61216354e-01],\n",
       "       [ 3.31312760e-02,  2.35538039e-01,  1.33714395e-01,\n",
       "         6.61140976e-01,  6.37337874e-02, -6.24353690e-03],\n",
       "       [-9.62088406e-03,  3.43008172e-01,  1.21353367e-01,\n",
       "         6.05932695e-01,  3.39902660e-02,  1.60106427e-01],\n",
       "       [-8.15175585e-02,  2.19716720e-01,  2.35139532e-01,\n",
       "         4.04594040e-01, -1.25338019e-01,  8.63557029e-02],\n",
       "       [-1.49615885e-01,  4.14457673e-01,  1.06382165e-01,\n",
       "         4.69698292e-01,  3.09765733e-02,  2.36519342e-01],\n",
       "       [-4.35840219e-03,  7.72477520e-02,  5.54582255e-01,\n",
       "         7.51069605e-03,  1.90123730e-01,  9.50350465e-02],\n",
       "       [ 6.83300836e-02,  3.83703835e-02,  6.74545450e-01,\n",
       "         5.70549880e-02,  8.75925917e-02,  1.52775079e-01],\n",
       "       [-3.99936735e-02,  3.18673008e-02,  5.51164437e-01,\n",
       "         1.01282241e-01, -1.13380867e-02,  8.99628330e-03],\n",
       "       [ 2.16283365e-01, -6.62407736e-02, -6.38475490e-01,\n",
       "        -1.02616940e-01, -1.43846475e-01,  3.18358901e-01],\n",
       "       [ 2.84187245e-01, -1.80811697e-01, -5.44837677e-01,\n",
       "        -5.99548221e-02,  2.58370947e-02,  1.32423445e-01],\n",
       "       [ 2.22797938e-02, -5.90450892e-01,  5.39149069e-02,\n",
       "        -1.30850532e-01, -7.12045796e-02,  1.56582658e-01],\n",
       "       [ 2.33623567e-01, -6.84577632e-01, -8.84970715e-02,\n",
       "        -1.16715666e-01, -4.55610414e-02,  1.15065400e-01],\n",
       "       [-8.95006296e-04,  5.56774179e-01,  1.03390347e-01,\n",
       "         1.79396482e-01,  2.41179904e-01,  2.67291315e-01],\n",
       "       [-1.36788076e-01,  6.58394906e-01,  1.13798005e-01,\n",
       "         2.41142962e-01, -1.07808203e-01,  1.58512852e-01],\n",
       "       [ 3.44895884e-02,  5.07535082e-01,  3.09812528e-01,\n",
       "         7.88042867e-02,  2.00821351e-01,  8.74730340e-03],\n",
       "       [ 8.05805940e-01,  6.80113041e-02, -5.12637872e-02,\n",
       "        -1.74849359e-01, -7.49771193e-02, -9.62661717e-02],\n",
       "       [ 7.89831686e-01,  2.29582938e-02, -3.74768700e-02,\n",
       "        -1.41134482e-01,  6.72646098e-03, -1.39822611e-01],\n",
       "       [ 7.25081218e-01, -6.56869340e-02, -5.90394376e-02,\n",
       "        -1.91838173e-02, -1.06635545e-02,  6.24953366e-02],\n",
       "       [ 5.78318850e-01, -3.45072325e-01, -1.62173861e-01,\n",
       "         4.03125016e-04,  6.29164839e-02,  1.47551242e-01],\n",
       "       [ 5.23097071e-01, -1.61675117e-01, -2.53049780e-02,\n",
       "         9.01247904e-02, -1.61891978e-01,  1.20049477e-01],\n",
       "       [-2.00040180e-02,  2.25338562e-01,  1.33200799e-01,\n",
       "         5.17793821e-03,  4.79477217e-01,  2.18689834e-01],\n",
       "       [ 1.56230108e-01, -1.98151993e-03, -8.60468495e-02,\n",
       "         4.39891069e-02, -4.96639673e-01,  1.34692974e-01],\n",
       "       [ 1.18510150e-02,  3.25954482e-01,  9.38796111e-02,\n",
       "         7.66416476e-02,  5.66128047e-01,  2.10777218e-01],\n",
       "       [ 2.07280572e-01, -1.77745714e-01, -5.67146635e-03,\n",
       "         1.33655572e-01,  3.49227138e-01,  1.78068366e-01],\n",
       "       [ 6.32343666e-02, -1.42210628e-02, -4.70592288e-02,\n",
       "        -5.75607771e-02, -5.76742633e-01,  1.35935872e-01]])"
      ]
     },
     "execution_count": 43,
     "metadata": {},
     "output_type": "execute_result"
    }
   ],
   "source": [
    "loadings"
   ]
  },
  {
   "cell_type": "code",
   "execution_count": 44,
   "id": "a8e18512-5234-4684-8913-4a29a61c38bb",
   "metadata": {},
   "outputs": [
    {
     "data": {
      "text/html": [
       "<div>\n",
       "<style scoped>\n",
       "    .dataframe tbody tr th:only-of-type {\n",
       "        vertical-align: middle;\n",
       "    }\n",
       "\n",
       "    .dataframe tbody tr th {\n",
       "        vertical-align: top;\n",
       "    }\n",
       "\n",
       "    .dataframe thead th {\n",
       "        text-align: right;\n",
       "    }\n",
       "</style>\n",
       "<table border=\"1\" class=\"dataframe\">\n",
       "  <thead>\n",
       "    <tr style=\"text-align: right;\">\n",
       "      <th></th>\n",
       "      <th>0</th>\n",
       "      <th>1</th>\n",
       "      <th>2</th>\n",
       "      <th>3</th>\n",
       "      <th>4</th>\n",
       "      <th>5</th>\n",
       "    </tr>\n",
       "  </thead>\n",
       "  <tbody>\n",
       "    <tr>\n",
       "      <th>0</th>\n",
       "      <td>0.095220</td>\n",
       "      <td>0.040783</td>\n",
       "      <td>0.048734</td>\n",
       "      <td>-0.530987</td>\n",
       "      <td>-0.113057</td>\n",
       "      <td>0.161216</td>\n",
       "    </tr>\n",
       "    <tr>\n",
       "      <th>1</th>\n",
       "      <td>0.033131</td>\n",
       "      <td>0.235538</td>\n",
       "      <td>0.133714</td>\n",
       "      <td>0.661141</td>\n",
       "      <td>0.063734</td>\n",
       "      <td>-0.006244</td>\n",
       "    </tr>\n",
       "    <tr>\n",
       "      <th>2</th>\n",
       "      <td>-0.009621</td>\n",
       "      <td>0.343008</td>\n",
       "      <td>0.121353</td>\n",
       "      <td>0.605933</td>\n",
       "      <td>0.033990</td>\n",
       "      <td>0.160106</td>\n",
       "    </tr>\n",
       "    <tr>\n",
       "      <th>3</th>\n",
       "      <td>-0.081518</td>\n",
       "      <td>0.219717</td>\n",
       "      <td>0.235140</td>\n",
       "      <td>0.404594</td>\n",
       "      <td>-0.125338</td>\n",
       "      <td>0.086356</td>\n",
       "    </tr>\n",
       "    <tr>\n",
       "      <th>4</th>\n",
       "      <td>-0.149616</td>\n",
       "      <td>0.414458</td>\n",
       "      <td>0.106382</td>\n",
       "      <td>0.469698</td>\n",
       "      <td>0.030977</td>\n",
       "      <td>0.236519</td>\n",
       "    </tr>\n",
       "    <tr>\n",
       "      <th>5</th>\n",
       "      <td>-0.004358</td>\n",
       "      <td>0.077248</td>\n",
       "      <td>0.554582</td>\n",
       "      <td>0.007511</td>\n",
       "      <td>0.190124</td>\n",
       "      <td>0.095035</td>\n",
       "    </tr>\n",
       "    <tr>\n",
       "      <th>6</th>\n",
       "      <td>0.068330</td>\n",
       "      <td>0.038370</td>\n",
       "      <td>0.674545</td>\n",
       "      <td>0.057055</td>\n",
       "      <td>0.087593</td>\n",
       "      <td>0.152775</td>\n",
       "    </tr>\n",
       "    <tr>\n",
       "      <th>7</th>\n",
       "      <td>-0.039994</td>\n",
       "      <td>0.031867</td>\n",
       "      <td>0.551164</td>\n",
       "      <td>0.101282</td>\n",
       "      <td>-0.011338</td>\n",
       "      <td>0.008996</td>\n",
       "    </tr>\n",
       "    <tr>\n",
       "      <th>8</th>\n",
       "      <td>0.216283</td>\n",
       "      <td>-0.066241</td>\n",
       "      <td>-0.638475</td>\n",
       "      <td>-0.102617</td>\n",
       "      <td>-0.143846</td>\n",
       "      <td>0.318359</td>\n",
       "    </tr>\n",
       "    <tr>\n",
       "      <th>9</th>\n",
       "      <td>0.284187</td>\n",
       "      <td>-0.180812</td>\n",
       "      <td>-0.544838</td>\n",
       "      <td>-0.059955</td>\n",
       "      <td>0.025837</td>\n",
       "      <td>0.132423</td>\n",
       "    </tr>\n",
       "    <tr>\n",
       "      <th>10</th>\n",
       "      <td>0.022280</td>\n",
       "      <td>-0.590451</td>\n",
       "      <td>0.053915</td>\n",
       "      <td>-0.130851</td>\n",
       "      <td>-0.071205</td>\n",
       "      <td>0.156583</td>\n",
       "    </tr>\n",
       "    <tr>\n",
       "      <th>11</th>\n",
       "      <td>0.233624</td>\n",
       "      <td>-0.684578</td>\n",
       "      <td>-0.088497</td>\n",
       "      <td>-0.116716</td>\n",
       "      <td>-0.045561</td>\n",
       "      <td>0.115065</td>\n",
       "    </tr>\n",
       "    <tr>\n",
       "      <th>12</th>\n",
       "      <td>-0.000895</td>\n",
       "      <td>0.556774</td>\n",
       "      <td>0.103390</td>\n",
       "      <td>0.179396</td>\n",
       "      <td>0.241180</td>\n",
       "      <td>0.267291</td>\n",
       "    </tr>\n",
       "    <tr>\n",
       "      <th>13</th>\n",
       "      <td>-0.136788</td>\n",
       "      <td>0.658395</td>\n",
       "      <td>0.113798</td>\n",
       "      <td>0.241143</td>\n",
       "      <td>-0.107808</td>\n",
       "      <td>0.158513</td>\n",
       "    </tr>\n",
       "    <tr>\n",
       "      <th>14</th>\n",
       "      <td>0.034490</td>\n",
       "      <td>0.507535</td>\n",
       "      <td>0.309813</td>\n",
       "      <td>0.078804</td>\n",
       "      <td>0.200821</td>\n",
       "      <td>0.008747</td>\n",
       "    </tr>\n",
       "    <tr>\n",
       "      <th>15</th>\n",
       "      <td>0.805806</td>\n",
       "      <td>0.068011</td>\n",
       "      <td>-0.051264</td>\n",
       "      <td>-0.174849</td>\n",
       "      <td>-0.074977</td>\n",
       "      <td>-0.096266</td>\n",
       "    </tr>\n",
       "    <tr>\n",
       "      <th>16</th>\n",
       "      <td>0.789832</td>\n",
       "      <td>0.022958</td>\n",
       "      <td>-0.037477</td>\n",
       "      <td>-0.141134</td>\n",
       "      <td>0.006726</td>\n",
       "      <td>-0.139823</td>\n",
       "    </tr>\n",
       "    <tr>\n",
       "      <th>17</th>\n",
       "      <td>0.725081</td>\n",
       "      <td>-0.065687</td>\n",
       "      <td>-0.059039</td>\n",
       "      <td>-0.019184</td>\n",
       "      <td>-0.010664</td>\n",
       "      <td>0.062495</td>\n",
       "    </tr>\n",
       "    <tr>\n",
       "      <th>18</th>\n",
       "      <td>0.578319</td>\n",
       "      <td>-0.345072</td>\n",
       "      <td>-0.162174</td>\n",
       "      <td>0.000403</td>\n",
       "      <td>0.062916</td>\n",
       "      <td>0.147551</td>\n",
       "    </tr>\n",
       "    <tr>\n",
       "      <th>19</th>\n",
       "      <td>0.523097</td>\n",
       "      <td>-0.161675</td>\n",
       "      <td>-0.025305</td>\n",
       "      <td>0.090125</td>\n",
       "      <td>-0.161892</td>\n",
       "      <td>0.120049</td>\n",
       "    </tr>\n",
       "    <tr>\n",
       "      <th>20</th>\n",
       "      <td>-0.020004</td>\n",
       "      <td>0.225339</td>\n",
       "      <td>0.133201</td>\n",
       "      <td>0.005178</td>\n",
       "      <td>0.479477</td>\n",
       "      <td>0.218690</td>\n",
       "    </tr>\n",
       "    <tr>\n",
       "      <th>21</th>\n",
       "      <td>0.156230</td>\n",
       "      <td>-0.001982</td>\n",
       "      <td>-0.086047</td>\n",
       "      <td>0.043989</td>\n",
       "      <td>-0.496640</td>\n",
       "      <td>0.134693</td>\n",
       "    </tr>\n",
       "    <tr>\n",
       "      <th>22</th>\n",
       "      <td>0.011851</td>\n",
       "      <td>0.325954</td>\n",
       "      <td>0.093880</td>\n",
       "      <td>0.076642</td>\n",
       "      <td>0.566128</td>\n",
       "      <td>0.210777</td>\n",
       "    </tr>\n",
       "    <tr>\n",
       "      <th>23</th>\n",
       "      <td>0.207281</td>\n",
       "      <td>-0.177746</td>\n",
       "      <td>-0.005671</td>\n",
       "      <td>0.133656</td>\n",
       "      <td>0.349227</td>\n",
       "      <td>0.178068</td>\n",
       "    </tr>\n",
       "    <tr>\n",
       "      <th>24</th>\n",
       "      <td>0.063234</td>\n",
       "      <td>-0.014221</td>\n",
       "      <td>-0.047059</td>\n",
       "      <td>-0.057561</td>\n",
       "      <td>-0.576743</td>\n",
       "      <td>0.135936</td>\n",
       "    </tr>\n",
       "  </tbody>\n",
       "</table>\n",
       "</div>"
      ],
      "text/plain": [
       "           0         1         2         3         4         5\n",
       "0   0.095220  0.040783  0.048734 -0.530987 -0.113057  0.161216\n",
       "1   0.033131  0.235538  0.133714  0.661141  0.063734 -0.006244\n",
       "2  -0.009621  0.343008  0.121353  0.605933  0.033990  0.160106\n",
       "3  -0.081518  0.219717  0.235140  0.404594 -0.125338  0.086356\n",
       "4  -0.149616  0.414458  0.106382  0.469698  0.030977  0.236519\n",
       "5  -0.004358  0.077248  0.554582  0.007511  0.190124  0.095035\n",
       "6   0.068330  0.038370  0.674545  0.057055  0.087593  0.152775\n",
       "7  -0.039994  0.031867  0.551164  0.101282 -0.011338  0.008996\n",
       "8   0.216283 -0.066241 -0.638475 -0.102617 -0.143846  0.318359\n",
       "9   0.284187 -0.180812 -0.544838 -0.059955  0.025837  0.132423\n",
       "10  0.022280 -0.590451  0.053915 -0.130851 -0.071205  0.156583\n",
       "11  0.233624 -0.684578 -0.088497 -0.116716 -0.045561  0.115065\n",
       "12 -0.000895  0.556774  0.103390  0.179396  0.241180  0.267291\n",
       "13 -0.136788  0.658395  0.113798  0.241143 -0.107808  0.158513\n",
       "14  0.034490  0.507535  0.309813  0.078804  0.200821  0.008747\n",
       "15  0.805806  0.068011 -0.051264 -0.174849 -0.074977 -0.096266\n",
       "16  0.789832  0.022958 -0.037477 -0.141134  0.006726 -0.139823\n",
       "17  0.725081 -0.065687 -0.059039 -0.019184 -0.010664  0.062495\n",
       "18  0.578319 -0.345072 -0.162174  0.000403  0.062916  0.147551\n",
       "19  0.523097 -0.161675 -0.025305  0.090125 -0.161892  0.120049\n",
       "20 -0.020004  0.225339  0.133201  0.005178  0.479477  0.218690\n",
       "21  0.156230 -0.001982 -0.086047  0.043989 -0.496640  0.134693\n",
       "22  0.011851  0.325954  0.093880  0.076642  0.566128  0.210777\n",
       "23  0.207281 -0.177746 -0.005671  0.133656  0.349227  0.178068\n",
       "24  0.063234 -0.014221 -0.047059 -0.057561 -0.576743  0.135936"
      ]
     },
     "execution_count": 44,
     "metadata": {},
     "output_type": "execute_result"
    }
   ],
   "source": [
    "pd.DataFrame.from_records(loadings)"
   ]
  },
  {
   "cell_type": "code",
   "execution_count": null,
   "id": "f127d4a1-b2a7-41a4-9894-27ee197e4318",
   "metadata": {},
   "outputs": [],
   "source": []
  }
 ],
 "metadata": {
  "kernelspec": {
   "display_name": "Python 3",
   "language": "python",
   "name": "python3"
  },
  "language_info": {
   "codemirror_mode": {
    "name": "ipython",
    "version": 3
   },
   "file_extension": ".py",
   "mimetype": "text/x-python",
   "name": "python",
   "nbconvert_exporter": "python",
   "pygments_lexer": "ipython3",
   "version": "3.8.8"
  }
 },
 "nbformat": 4,
 "nbformat_minor": 5
}
